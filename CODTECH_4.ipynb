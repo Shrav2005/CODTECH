{
  "nbformat": 4,
  "nbformat_minor": 0,
  "metadata": {
    "colab": {
      "provenance": []
    },
    "kernelspec": {
      "name": "python3",
      "display_name": "Python 3"
    },
    "language_info": {
      "name": "python"
    }
  },
  "cells": [
    {
      "cell_type": "code",
      "execution_count": 1,
      "metadata": {
        "colab": {
          "base_uri": "https://localhost:8080/"
        },
        "id": "8E56Z2a_4yAz",
        "outputId": "46fd45bf-ca2d-4f0b-fb6b-39780b42305b"
      },
      "outputs": [
        {
          "output_type": "stream",
          "name": "stdout",
          "text": [
            "Collecting pulp\n",
            "  Downloading pulp-3.2.1-py3-none-any.whl.metadata (6.9 kB)\n",
            "Downloading pulp-3.2.1-py3-none-any.whl (16.4 MB)\n",
            "\u001b[2K   \u001b[90m━━━━━━━━━━━━━━━━━━━━━━━━━━━━━━━━━━━━━━━━\u001b[0m \u001b[32m16.4/16.4 MB\u001b[0m \u001b[31m63.3 MB/s\u001b[0m eta \u001b[36m0:00:00\u001b[0m\n",
            "\u001b[?25hInstalling collected packages: pulp\n",
            "Successfully installed pulp-3.2.1\n"
          ]
        }
      ],
      "source": [
        "!pip install pulp\n",
        "\n"
      ]
    },
    {
      "cell_type": "code",
      "source": [
        "import pulp\n",
        "\n",
        "# Create a linear programming problem (maximize profit)\n",
        "model = pulp.LpProblem(\"Maximize_Profit\", pulp.LpMaximize)\n",
        "\n",
        "# Decision variables\n",
        "A = pulp.LpVariable(\"Product_A\", lowBound=0, cat='Continuous')\n",
        "B = pulp.LpVariable(\"Product_B\", lowBound=0, cat='Continuous')\n",
        "\n",
        "# Objective Function\n",
        "model += 20 * A + 30 * B, \"Total Profit\"\n",
        "\n",
        "# Constraints\n",
        "model += 2 * A + 3 * B <= 60, \"Machine Hours\"\n",
        "model += 3 * A + 2 * B <= 60, \"Labor Hours\"\n"
      ],
      "metadata": {
        "id": "JU9ILERd46mm"
      },
      "execution_count": 2,
      "outputs": []
    },
    {
      "cell_type": "code",
      "source": [
        "# Solve the model\n",
        "model.solve()\n",
        "\n",
        "# Output results\n",
        "print(\"Status:\", pulp.LpStatus[model.status])\n",
        "print(\"Produce Product A =\", A.varValue)\n",
        "print(\"Produce Product B =\", B.varValue)\n",
        "print(\"Maximum Profit = ₹\", pulp.value(model.objective))\n"
      ],
      "metadata": {
        "colab": {
          "base_uri": "https://localhost:8080/"
        },
        "id": "iBKG2Cev4_dl",
        "outputId": "714501af-e08b-4db4-9577-f5218a3bbbd6"
      },
      "execution_count": 3,
      "outputs": [
        {
          "output_type": "stream",
          "name": "stdout",
          "text": [
            "Status: Optimal\n",
            "Produce Product A = 0.0\n",
            "Produce Product B = 20.0\n",
            "Maximum Profit = ₹ 600.0\n"
          ]
        }
      ]
    },
    {
      "cell_type": "code",
      "source": [],
      "metadata": {
        "id": "vaagHJvH5gpi"
      },
      "execution_count": null,
      "outputs": []
    }
  ]
}